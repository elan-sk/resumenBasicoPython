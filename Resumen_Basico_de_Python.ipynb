{
  "cells": [
    {
      "cell_type": "markdown",
      "metadata": {
        "id": "Pp7pjpk1yCZT"
      },
      "source": [
        "RESUMEN DE LO VISTO EN CLASE"
      ]
    },
    {
      "cell_type": "markdown",
      "metadata": {
        "id": "AdjDJMUV0ni3"
      },
      "source": [
        "**INTRODUCCIÓN**\n",
        "\n",
        "Python es un lenguaje de programación interpretado cuya filosofía hace hincapié en la legibilidad de su código.​ Se trata de un lenguaje de programación multiparadigma, ya que soporta parcialmente la orientación a objetos, programación imperativa y, en menor medida, programación funcional.\n",
        "\n",
        "https://g.co/kgs/6i5Zuh"
      ]
    },
    {
      "cell_type": "markdown",
      "metadata": {
        "id": "Tc9G_I-hynsb"
      },
      "source": [
        "**1. VARIABLES EN PYTHON**\n",
        "\n",
        "En Python no es necesario declarar el tipo de vatiable, solo se crea y dependiendo del valor que se le asigne, pyton gestionara su tipo. \n",
        "\n",
        "Ejemplo:"
      ]
    },
    {
      "cell_type": "code",
      "execution_count": 5,
      "metadata": {
        "colab": {
          "base_uri": "https://localhost:8080/"
        },
        "id": "8O-hBd2Z0dSR",
        "outputId": "5ab454dc-5fc2-40f2-9f21-ff2ecf0dce41"
      },
      "outputs": [
        {
          "name": "stdout",
          "output_type": "stream",
          "text": [
            "entero= <class 'int'>\n",
            "text= <class 'str'>\n",
            "boolean= <class 'bool'>\n",
            "flotante= <class 'float'>\n",
            "lista= <class 'list'>\n",
            "tupla= <class 'tuple'>\n",
            "complejo= <class 'complex'>\n"
          ]
        }
      ],
      "source": [
        "entero = 1\n",
        "text = 'hola mundo'\n",
        "boolean = True\n",
        "flotante = 3.5\n",
        "lista = [1,2,3,4]\n",
        "tupla = (1,2,3,4)\n",
        "complejo = 5j\n",
        "\n",
        "print (\"entero=\",type(entero))\n",
        "print (\"text=\",type(text))\n",
        "print (\"boolean=\",type(boolean))\n",
        "print (\"flotante=\",type(flotante))\n",
        "print (\"lista=\",type(lista))\n",
        "print (\"tupla=\",type(tupla))\n",
        "print (\"complejo=\",type(complejo))\n"
      ]
    },
    {
      "cell_type": "markdown",
      "metadata": {
        "id": "NQnX-V2E5Qh1"
      },
      "source": [
        "Es muy importante gestionar bien los datos para que la memoria ram pueda funcionar adecuadamente al ejecutar el codigo."
      ]
    },
    {
      "cell_type": "markdown",
      "metadata": {
        "id": "nDqBHhF_4ZRS"
      },
      "source": [
        "**2. CASTEO DE DATOS**\n",
        "\n",
        "Es tomar un tipo de datos para que se comporte como otro, por ejemplo tomar un string para que se comporte como un entero."
      ]
    },
    {
      "cell_type": "code",
      "execution_count": 6,
      "metadata": {
        "colab": {
          "base_uri": "https://localhost:8080/"
        },
        "id": "L2A5n1_47P-2",
        "outputId": "ae1308a3-b403-4dcd-c432-fc7590e137b7"
      },
      "outputs": [
        {
          "name": "stdout",
          "output_type": "stream",
          "text": [
            "r= 37\n",
            "r1= 10\n"
          ]
        }
      ],
      "source": [
        "a='3'\n",
        "b='7'\n",
        "r=a+b\n",
        "print('r=',r)\n",
        "a1=int(a)\n",
        "b1=int(b)\n",
        "r1=a1+b1\n",
        "print('r1=',r1)"
      ]
    },
    {
      "cell_type": "markdown",
      "metadata": {
        "id": "L3f2dsus78MO"
      },
      "source": [
        "**3. OPERACIONES ARITMÉTICAS**\n",
        "\n",
        "Estas son algunas de las operaciones aritmericas que se pueden hacer en python.\n"
      ]
    },
    {
      "cell_type": "code",
      "execution_count": 7,
      "metadata": {
        "colab": {
          "base_uri": "https://localhost:8080/"
        },
        "id": "16xLFG3i9hAK",
        "outputId": "584b5d97-d656-44f5-d9f7-43024af60659"
      },
      "outputs": [
        {
          "name": "stdout",
          "output_type": "stream",
          "text": [
            "Suma =  10\n",
            "Resta =  -4\n",
            "Multiplicación =  21\n",
            "División =  3.3333333333333335\n",
            "División entera =  3\n",
            "Residuo =  1\n",
            "Potencia =  2187\n",
            "Raiz =  1.4142135623730951\n"
          ]
        }
      ],
      "source": [
        "print(\"Suma = \", 3+7)\n",
        "print(\"Resta = \", 3-7)\n",
        "print(\"Multiplicación = \", 3*7)\n",
        "print(\"División = \", 10/3)\n",
        "print(\"División entera = \", 10//3)\n",
        "print(\"Residuo = \", 10%3)\n",
        "print(\"Potencia = \", 3**7)\n",
        "print(\"Raiz = \", 2**0.5)"
      ]
    },
    {
      "cell_type": "markdown",
      "metadata": {
        "id": "rO6_6gT_AZke"
      },
      "source": [
        "**4.GENERAR NUMEROS ALEATOREOS**\n",
        "\n",
        "En Pyton se pueden generar números \"aleatoreos\" por medio de la librería de radom, llamando algunas de sus funiones con una semilla."
      ]
    },
    {
      "cell_type": "code",
      "execution_count": 8,
      "metadata": {
        "colab": {
          "base_uri": "https://localhost:8080/"
        },
        "id": "wHD6MIVp__fy",
        "outputId": "7449070e-6f3d-45eb-a7e4-a8ce5d10efd0"
      },
      "outputs": [
        {
          "name": "stdout",
          "output_type": "stream",
          "text": [
            "Generar un número entero del 3 al 7:  4\n",
            "Seleccionar aleatoreamente de opciones:  dos\n",
            "Generar un número decimal entre 0 y 1:  0.03376692612448218\n",
            "Generar un número entero entre 0 y 3:  1\n",
            "Generar un número decimal entre 0 y 3:  0.28779621462652094\n",
            "imprimir una letra aleatoria:  T\n"
          ]
        }
      ],
      "source": [
        "import random\n",
        "\n",
        "print('Generar un número entero del 3 al 7: ', random.randrange(3,7)) #con randrange\n",
        "print('Seleccionar aleatoreamente de opciones: ', random.choice([\"uno\",\"dos\",\"tres\"])) #con choice\n",
        "print('Generar un número decimal entre 0 y 1: ', random.random()) #con random\n",
        "print('Generar un número entero entre 0 y 3: ', int(3 * random.random())) #con random\n",
        "print('Generar un número decimal entre 0 y 3: ', 3 * random.random()) #con random\n",
        "print('imprimir una letra aleatoria: ', random.choice(\"QWERTYUIOP\")) #con randrange"
      ]
    },
    {
      "cell_type": "markdown",
      "metadata": {
        "id": "VmRZGHKiFyYJ"
      },
      "source": [
        "**5. LIBRERIA MATH**\n",
        "\n",
        "Esta libreria nos permite hacer operaciones matemáticas más complejas."
      ]
    },
    {
      "cell_type": "code",
      "execution_count": 9,
      "metadata": {
        "colab": {
          "base_uri": "https://localhost:8080/"
        },
        "id": "l05aXW0eGenp",
        "outputId": "a6f9090b-727c-416d-9b62-485e2e94d0a4"
      },
      "outputs": [
        {
          "name": "stdout",
          "output_type": "stream",
          "text": [
            "Factorial= 6\n",
            "PI= 3.141592653589793\n",
            "E= 2.718281828459045\n",
            "seno= 0.49999999999999994\n",
            "aseno= 30.000000000000004\n",
            "Logaritmo Natural= 2.0\n",
            "Logaritmo en base 10= 2.0\n",
            "Logaritmo en base 2= 3.0\n",
            "Potencia= 9.0\n",
            "Raiz cuadrada= 2.0\n"
          ]
        }
      ],
      "source": [
        "import math\n",
        "print(\"Factorial=\",math.factorial(3))\n",
        "print(\"PI=\",math.pi)\n",
        "print(\"E=\",math.e)\n",
        "print(\"seno=\",math.sin(math.pi/6))\n",
        "print(\"aseno=\",math.degrees(math.asin(0.5)))\n",
        "print(\"Logaritmo Natural=\",math.log(math.exp(2)))\n",
        "print(\"Logaritmo en base 10=\",math.log10(100))\n",
        "print(\"Logaritmo en base 2=\",math.log2(8))\n",
        "print(\"Potencia=\",math.pow(3,2))\n",
        "print(\"Raiz cuadrada=\",math.sqrt(4))"
      ]
    },
    {
      "cell_type": "markdown",
      "metadata": {
        "id": "mXH8SJUyGl1I"
      },
      "source": [
        "**6. OPERACIONES CON CADENAS**\n",
        "\n",
        "Una cadena es basicamentre una arreglo de caracteres, por lo que se pueden hacer con este tipo de datos casi todas las operaciones que se harían con un arreglo.\n"
      ]
    },
    {
      "cell_type": "code",
      "execution_count": 10,
      "metadata": {
        "colab": {
          "base_uri": "https://localhost:8080/"
        },
        "id": "_LdMloeNHFxp",
        "outputId": "4c28b698-fb00-4e51-c27f-b009d4056338"
      },
      "outputs": [
        {
          "name": "stdout",
          "output_type": "stream",
          "text": [
            "Un divertidoprogramaderadio\n",
            "programasprogramasprogramas\n",
            "longitud de la cadena: 27\n",
            "acceder a una posicion determinada: r\n",
            "acceder a la última posición: a\n"
          ]
        }
      ],
      "source": [
        "#Suma o concatenación\n",
        "x=\"Un divertido\"+\"programa\"+\"de\"+\"radio\" \n",
        "print(x)\n",
        "#Multiplicación de una cadena con un número\n",
        "y=3*\"programas\" \n",
        "print(y)\n",
        "#Obtener longitud de una cadena\n",
        "print('longitud de la cadena:',len(y))\n",
        "#Acceder  a una posición de la cadena\n",
        "cadena = \"programa\"\n",
        "print('acceder a una posicion determinada:',cadena[1])\n",
        "print('acceder a la última posición:',cadena[-1]) \n"
      ]
    },
    {
      "cell_type": "markdown",
      "metadata": {
        "id": "f2x5DpLJHQfx"
      },
      "source": [
        "**7. TUPLA**\n",
        "\n",
        "Una Tupla es un conjunto de datos ordenados de cualquier tipo, los cuales no pueden ser modificados, borrados o agregar nuevos items despues de su creación. Para asignar una tupla se usan parentesis () y cada valor va separado por comas."
      ]
    },
    {
      "cell_type": "code",
      "execution_count": 11,
      "metadata": {
        "colab": {
          "base_uri": "https://localhost:8080/"
        },
        "id": "QDRUYnwqKBo_",
        "outputId": "0f7a5b58-42b2-402e-f5d3-153996d5c09a"
      },
      "outputs": [
        {
          "name": "stdout",
          "output_type": "stream",
          "text": [
            "('cadena de texto', 15, 2.8, 'otro dato', 25, 25)\n",
            "<class 'tuple'>\n",
            "(15, 2.8, 'otro dato')\n",
            "cuantas veces hay un elemento= 2\n",
            "dice en que posicion esta el elemento= 1\n"
          ]
        }
      ],
      "source": [
        "tupla = ('cadena de texto', 15, 2.8, 'otro dato', 25,25)\n",
        "print(tupla)\n",
        "print(type(tupla))\n",
        "print(tupla[1:4])\n",
        "print('cuantas veces hay un elemento=',tupla.count(25))\n",
        "print('dice en que posicion esta el elemento=',tupla.index(15))\n",
        "\n",
        "#codigo que genera error debido a que es una tupla, por lo tanto no se puede modificar el contenido de la posición [0]\n",
        "#tupla[0]=2"
      ]
    },
    {
      "cell_type": "markdown",
      "metadata": {
        "id": "vf3LoJvjK8a6"
      },
      "source": [
        "**8. LISTA**\n",
        "\n",
        "Una Lista es un conjunto de datos ordenados de cualquier tipo, los cuales pueden ser modificados, borrados o agregar nuevos items despues de su creación. Para asignar una lista se usan corchetes [] y cada valor va separado por comas.\n"
      ]
    },
    {
      "cell_type": "code",
      "execution_count": 12,
      "metadata": {
        "colab": {
          "base_uri": "https://localhost:8080/"
        },
        "id": "98bZ7nbFMQ1t",
        "outputId": "76dce2e4-dbaa-46f2-9215-81ae7bd08647"
      },
      "outputs": [
        {
          "name": "stdout",
          "output_type": "stream",
          "text": [
            "Toda la lista=  [1, 2, 3, 'hola', [10, 'nunca', 90], -32]\n",
            "<class 'list'>\n",
            "Longitud de la lista=  6\n",
            "Acceder a un rango de posiciones= [1, 2, 3, 'hola']\n",
            "Acceder a una posición específica=  [10, 'nunca', 90]\n",
            "Acceder a la última posición=  -32\n",
            "Toda la lista=  [1, 2, 3, 'hola', [10, 'nunca', 90], -32, 'Nuevo último']\n"
          ]
        }
      ],
      "source": [
        "a = [1,2,3,\"hola\", [10, \"nunca\", 90], -32]\n",
        "\n",
        "\n",
        "print (\"Toda la lista= \",a)\n",
        "print(type(a))\n",
        "print (\"Longitud de la lista= \", len(a))\n",
        "print(\"Acceder a un rango de posiciones=\",a[0:4])\n",
        "print(\"Acceder a una posición específica= \",a[4])\n",
        "print(\"Acceder a la última posición= \",a[-1])\n",
        "a[1:-1]\n",
        "\n",
        "#Asignar un nuevo elemento\n",
        "a.append(\"Nuevo último\")\n",
        "print (\"Toda la lista= \",a)\n"
      ]
    },
    {
      "cell_type": "markdown",
      "metadata": {
        "id": "RrlTYd5pNvWw"
      },
      "source": [
        "recorres una lista"
      ]
    },
    {
      "cell_type": "code",
      "execution_count": 13,
      "metadata": {
        "colab": {
          "base_uri": "https://localhost:8080/"
        },
        "id": "ppQ_DXQwM3bZ",
        "outputId": "f17eb5ed-fb65-45e1-de3a-a7cf27d765e4"
      },
      "outputs": [
        {
          "name": "stdout",
          "output_type": "stream",
          "text": [
            "0 --> 1\n",
            "1 --> 2\n",
            "2 --> 3\n",
            "3 --> hola\n",
            "4 --> [10, 'nunca', 90]\n",
            "5 --> -32\n",
            "6 --> Nuevo último\n"
          ]
        }
      ],
      "source": [
        "for i in range(len(a)):\n",
        "    print (i, \"-->\", a[i])"
      ]
    },
    {
      "cell_type": "code",
      "execution_count": 14,
      "metadata": {
        "colab": {
          "base_uri": "https://localhost:8080/"
        },
        "id": "Biu_zlbxN46g",
        "outputId": "0c16e9d1-006d-49f2-bc2f-e6420ae6e342"
      },
      "outputs": [
        {
          "name": "stdout",
          "output_type": "stream",
          "text": [
            "1\n",
            "2\n",
            "3\n",
            "hola\n",
            "[10, 'nunca', 90]\n",
            "-32\n",
            "Nuevo último\n"
          ]
        }
      ],
      "source": [
        "for i in a:\n",
        "    print (i)"
      ]
    },
    {
      "cell_type": "markdown",
      "metadata": {
        "id": "-f1pC1HvOR9M"
      },
      "source": [
        "Acceder al los elementos de una lista"
      ]
    },
    {
      "cell_type": "code",
      "execution_count": 15,
      "metadata": {
        "colab": {
          "base_uri": "https://localhost:8080/"
        },
        "id": "wUURvQF0ObIB",
        "outputId": "4ef792ed-7cc5-4bfe-8f49-f41653b7348f"
      },
      "outputs": [
        {
          "name": "stdout",
          "output_type": "stream",
          "text": [
            "[10, 'nunca', 90]\n",
            "10\n",
            "nunca\n",
            "nca\n",
            "nun\n",
            "un\n"
          ]
        }
      ],
      "source": [
        "print (a[4])\n",
        "print (a[4][0])\n",
        "print (a[4][1])\n",
        "print (a[4][1][2:])\n",
        "print (a[4][1][:3])\n",
        "print (a[4][1][1:3])"
      ]
    },
    {
      "cell_type": "markdown",
      "metadata": {
        "id": "epBmQZQrfUZJ"
      },
      "source": [
        "**Diccionarios**\n",
        "\n",
        "Los diccionarios son estructuras de datos en donde el elemento está asociada a una clave y no se accede por medios de indice como se hace en las tuplas y listas. \n",
        "\n",
        "Las claves pueden ser de distintos tipos de datos, y no pueden repetirce \n",
        "\n"
      ]
    },
    {
      "cell_type": "code",
      "execution_count": 16,
      "metadata": {
        "colab": {
          "base_uri": "https://localhost:8080/"
        },
        "id": "HVIVkj-jtWH2",
        "outputId": "b41bc3c1-62e1-48ae-db0f-0e3efd4ca185"
      },
      "outputs": [
        {
          "name": "stdout",
          "output_type": "stream",
          "text": [
            "Vemos que los elementos no van \"ordenados\":\n",
            "1 --> Casillas\n",
            "3 --> Piqué\n",
            "5 --> Puyol\n",
            "6 --> Iniesta\n",
            "7 --> Villa\n",
            "8 --> Xavi Hernández\n",
            "9 --> Torres\n",
            "11 --> Capdevila\n",
            "14 --> Xavi Alonso\n",
            "15 --> Ramos\n",
            "16 --> Busquets\n",
            "\n",
            "El número de futbolistas es de 11\n",
            "\n",
            "Las claves de nuestro diccionario son : dict_keys([1, 3, 5, 6, 7, 8, 9, 11, 14, 15, 16])\n",
            "\n",
            "Los valores de nuestro diccionario son : dict_values(['Casillas', 'Piqué', 'Puyol', 'Iniesta', 'Villa', 'Xavi Hernández', 'Torres', 'Capdevila', 'Xavi Alonso', 'Ramos', 'Busquets'])\n",
            "\n",
            "El futbolista con clave 6 es Iniesta\n",
            "\n",
            "Insertamos el elemento con clave 10 y valor Cesc\n",
            "Ahora el diccionario queda : {1: 'Casillas', 3: 'Piqué', 5: 'Puyol', 6: 'Iniesta', 7: 'Villa', 8: 'Xavi Hernández', 9: 'Torres', 11: 'Capdevila', 14: 'Xavi Alonso', 15: 'Ramos', 16: 'Busquets', 10: 'Cesc'}\n",
            "\n",
            "Añadimos un nuevo elemento, ahora el diccionario queda: \n",
            "{1: 'Casillas', 3: 'Piqué', 5: 'Puyol', 6: 'Iniesta', 7: 'Villa', 8: 'Xavi Hernández', 9: 'Torres', 11: 'Capdevila', 14: 'Xavi Alonso', 15: 'Ramos', 16: 'Busquets', 10: 'Cesc', 22: 'Navas'}\n",
            "\n",
            "Eliminamos el elemento con clave 22\n",
            "Ahora el diccionario queda: {1: 'Casillas', 3: 'Piqué', 5: 'Puyol', 6: 'Iniesta', 7: 'Villa', 8: 'Xavi Hernández', 9: 'Torres', 11: 'Capdevila', 14: 'Xavi Alonso', 15: 'Ramos', 16: 'Busquets', 10: 'Cesc'}\n",
            "\n",
            "La copia del diccionario tiene los valores:\n",
            "{1: 'Casillas', 3: 'Piqué', 5: 'Puyol', 6: 'Iniesta', 7: 'Villa', 8: 'Xavi Hernández', 9: 'Torres', 11: 'Capdevila', 14: 'Xavi Alonso', 15: 'Ramos', 16: 'Busquets', 10: 'Cesc'}\n",
            "\n",
            "Vaciamos el diccionario nuevo creado, ahora los valores en el: {}\n",
            "\n",
            "Creamos un diccionario a partir de la lista de claves:\n",
            "['nombre', 'apellidos', 'edad']\n",
            "y con valor 'null'\n",
            "Así el diccionario queda: {'nombre': 'null', 'apellidos': 'null', 'edad': 'null'}\n",
            "\n",
            "El futbolista con la clave 2 NO existe en el diccionario.\n",
            "\n",
            "El futbolista con la clave 8 existe en el diccionario.\n",
            "\n",
            "El diccionario convertido en tupla queda así:\n",
            "dict_items([(1, 'Casillas'), (3, 'Piqué'), (5, 'Puyol'), (6, 'Iniesta'), (7, 'Villa'), (8, 'Xavi Hernández'), (9, 'Torres'), (11, 'Capdevila'), (14, 'Xavi Alonso'), (15, 'Ramos'), (16, 'Busquets'), (10, 'Cesc')])\n",
            "\n",
            "Unimos el diccionario: \n",
            "{1: 'Casillas', 3: 'Piqué', 5: 'Puyol', 6: 'Iniesta', 7: 'Villa', 8: 'Xavi Hernández', 9: 'Torres', 11: 'Capdevila', 14: 'Xavi Alonso', 15: 'Ramos', 16: 'Busquets', 10: 'Cesc'}\n",
            "con el diccionario:\n",
            "{4: 'Marchena', 12: 'Valdes', 13: 'Mata', 17: 'Arbeloa', 19: 'Llorente', 20: 'Javi Martinez', 21: 'Silva', 23: 'Reina'}\n",
            "siendo el resultado:\n",
            "{1: 'Casillas', 3: 'Piqué', 5: 'Puyol', 6: 'Iniesta', 7: 'Villa', 8: 'Xavi Hernández', 9: 'Torres', 11: 'Capdevila', 14: 'Xavi Alonso', 15: 'Ramos', 16: 'Busquets', 10: 'Cesc', 4: 'Marchena', 12: 'Valdes', 13: 'Mata', 17: 'Arbeloa', 19: 'Llorente', 20: 'Javi Martinez', 21: 'Silva', 23: 'Reina'}\n"
          ]
        }
      ],
      "source": [
        "# Definir una variable diccionario\n",
        "futbolistas = dict()\n",
        "\n",
        "futbolistas = {\n",
        "    1: \"Casillas\", 3: \"Piqué\",\n",
        "    5: \"Puyol\", 6: \"Iniesta\",\n",
        "    7: \"Villa\", 8: \"Xavi Hernández\",\n",
        "    9: \"Torres\", 11: \"Capdevila\",\n",
        "    14: \"Xavi Alonso\", 15: \"Ramos\",\n",
        "    16: \"Busquets\"\n",
        "}\n",
        "\n",
        "# Recorrer el diccionario, imprimiendo clave - valor\n",
        "print (\"Vemos que los elementos no van \\\"ordenados\\\":\")\n",
        "for k, v in futbolistas.items():\n",
        "    print (\"{} --> {}\".format(k,v))\n",
        "\n",
        "# Nº de elementos que tiene un diccionario\n",
        "numElemen = len(futbolistas)\n",
        "print (\"\\nEl número de futbolistas es de {}\".format(numElemen))\n",
        "\n",
        "# Imprimir las claves que tiene un diccionario\n",
        "keys = futbolistas.keys();\n",
        "print (\"\\nLas claves de nuestro diccionario son : {}\".format(keys))\n",
        "\n",
        "# Imprimir los valores que tiene un diccionario\n",
        "values = futbolistas.values();\n",
        "print (\"\\nLos valores de nuestro diccionario son : {}\".format(values))\n",
        "\n",
        "# Obtener el valor de un elemento dada su clave\n",
        "elem = futbolistas.get(6)\n",
        "print (\"\\nEl futbolista con clave 6 es {}\".format(elem))\n",
        "\n",
        "# Insertamos un elemento en el diccionario\n",
        "## si la clave ya existe, el elemento NO se inserta\n",
        "futbolistas.setdefault(10, 'Cesc')\n",
        "print (\"\\nInsertamos el elemento con clave 10 y valor Cesc\")\n",
        "print (\"Ahora el diccionario queda : {}\".format(futbolistas))\n",
        "\n",
        "# Añadimos, de otro modo, un elemento al diccionario\n",
        "## si la clave ya existe, el valor se cambia por este nuevo\n",
        "futbolistas[22] = 'Navas'\n",
        "print (\"\\nAñadimos un nuevo elemento, ahora el diccionario queda: \")\n",
        "print (futbolistas)\n",
        "\n",
        "# Eliminamos un elemento del diccionario dada su clave\n",
        "futbolistas.pop(22)\n",
        "print (\"\\nEliminamos el elemento con clave 22\")\n",
        "print (\"Ahora el diccionario queda: {}\".format(futbolistas))\n",
        "\n",
        "# Hacemos una copia del diccionario\n",
        "futbolistas_copia = futbolistas.copy()\n",
        "print (\"\\nLa copia del diccionario tiene los valores:\")\n",
        "print (futbolistas_copia)\n",
        "\n",
        "# Borramos los elementos de un diccionario\n",
        "futbolistas_copia.clear()\n",
        "print (\"\\nVaciamos el diccionario nuevo creado, ahora los valores en el: {}\".format(futbolistas_copia))\n",
        "\n",
        "# Creamos un diccionario a partir de una lista de claves\n",
        "keys = ['nombre', 'apellidos', 'edad']\n",
        "datos_usuario = dict.fromkeys(keys, 'null')\n",
        "print (\"\\nCreamos un diccionario a partir de la lista de claves:\")\n",
        "print (keys)\n",
        "print (\"y con valor 'null'\")\n",
        "print (\"Así el diccionario queda: {}\".format(datos_usuario))\n",
        "\n",
        "# Comprobamos si existe o no una clave en un diccionario\n",
        "if 2 in futbolistas:\n",
        "    print (\"\\nEl futbolista con la clave 2 existe en el diccionario.\")\n",
        "else:\n",
        "    print (\"\\nEl futbolista con la clave 2 NO existe en el diccionario.\")\n",
        "\n",
        "if 8 in futbolistas:\n",
        "    print (\"\\nEl futbolista con la clave 8 existe en el diccionario.\")\n",
        "else:\n",
        "    print (\"\\nEl futbolista con la clave 8 NO existe en el diccionario.\")\n",
        "\n",
        "# Devolvemos los elementos del diccionario en una tupla\n",
        "tupla = futbolistas.items()\n",
        "print (\"\\nEl diccionario convertido en tupla queda así:\")\n",
        "print (tupla)\n",
        "\n",
        "# Unimos dos diccionarios existentes\n",
        "suplentes = {\n",
        "    4:'Marchena', 12:'Valdes', 13:'Mata',\n",
        "    17:'Arbeloa', 19:'Llorente', 20:'Javi Martinez',\n",
        "    21:'Silva', 23:'Reina'\n",
        "}\n",
        "\n",
        "print (\"\\nUnimos el diccionario: \")\n",
        "print (futbolistas)\n",
        "futbolistas.update(suplentes) # Aquí hacemos la unión de los diccionarios\n",
        "print (\"con el diccionario:\")\n",
        "print (suplentes)\n",
        "print (\"siendo el resultado:\")\n",
        "print (futbolistas)"
      ]
    },
    {
      "cell_type": "markdown",
      "metadata": {
        "id": "abggrI-WtXy3"
      },
      "source": [
        "## MATRICES Y VECTORES\n",
        "\n",
        "La matrices basicamente son arreglos o vectores de dos dimenciones y que pueden tener 1 o varias capas.\n",
        "\n",
        "Para trabajar con Matrices y vectores en Python su puede usar la libreria de **NumPy** el cual trabaja con vectores y matrices de forma natural.\n",
        "\n"
      ]
    },
    {
      "cell_type": "code",
      "execution_count": 17,
      "metadata": {
        "colab": {
          "base_uri": "https://localhost:8080/"
        },
        "id": "o1xyRoEY2ywB",
        "outputId": "bea8f5cb-ff57-46a1-d2ca-55084449823e"
      },
      "outputs": [
        {
          "name": "stdout",
          "output_type": "stream",
          "text": [
            "a shape (7, 5)\n",
            "a rows 7\n",
            "a cols 5\n",
            "v shape (8,)\n",
            "v elems 8\n"
          ]
        }
      ],
      "source": [
        "import numpy as np\n",
        "\n",
        "a = np.array([[1,2,3,4,5],\n",
        "              [5,4,3,2,1],\n",
        "              [9,8,7,6,5],\n",
        "              [7,6,5,6,7],\n",
        "              [2,2,2,3,3],\n",
        "              [4,3,4,3,4],\n",
        "              [5,1,1,4,1]])\n",
        "\n",
        "# shape sirve para mirar la forma de la matriz, \n",
        "print(\"a shape\", a.shape)\n",
        "# shape[0] es para ver la forma de las filas\n",
        "print(\"a rows\", a.shape[0])\n",
        "# shape[1] es para ver la forma de las columnas\n",
        "print(\"a cols\", a.shape[1])\n",
        "\n",
        "v = np.array([2,3,4,5,6,7,3,12])\n",
        "print(\"v shape\", v.shape)\n",
        "print(\"v elems\", v.shape[0])"
      ]
    },
    {
      "cell_type": "markdown",
      "metadata": {
        "id": "XqvZJ4R05yH5"
      },
      "source": [
        "Para mostrar los datos de la matriz, se usan los indices así:\n",
        "\n",
        "**Porción de la Matriz** \\\n",
        "arreglo [fila **:** fila] \\\n",
        "arreglo [fila **:** fila **,** Columna **:** Columna]\\\n",
        "arreglo [ **:** **,** Columna]\\\n",
        "arreglo [ **:** **,** Columna **:** Columna]\n",
        "\n",
        "**Elemento especifico** \\\n",
        "arreglo [fila **,** Columna]"
      ]
    },
    {
      "cell_type": "code",
      "execution_count": 18,
      "metadata": {
        "colab": {
          "base_uri": "https://localhost:8080/"
        },
        "id": "r_cLP8U2-mdH",
        "outputId": "8a19a7d3-15c2-4b2b-ec85-a0c63cc147fb"
      },
      "outputs": [
        {
          "name": "stdout",
          "output_type": "stream",
          "text": [
            "una fila         [5 4 3 2 1]\n",
            "una fila         [5 4 3 2 1]\n",
            "una columna      [1 5 9 7 2 4 5]\n",
            "un elemento      1\n",
            "varias filas    \n",
            " [[5 4 3 2 1]\n",
            " [9 8 7 6 5]\n",
            " [7 6 5 6 7]]\n",
            "varias columnas \n",
            " [[2 3]\n",
            " [4 3]\n",
            " [8 7]\n",
            " [6 5]\n",
            " [2 2]\n",
            " [3 4]\n",
            " [1 1]]\n",
            "una porcion     \n",
            " [[8 7 6 5]\n",
            " [6 5 6 7]\n",
            " [2 2 3 3]]\n"
          ]
        }
      ],
      "source": [
        "print(\"una fila        \" ,a[1])\n",
        "print(\"una fila        \",a[1,:])\n",
        "print(\"una columna     \",a[:,0])\n",
        "print(\"un elemento     \",a[6,4])\n",
        "print(\"varias filas    \\n\",a[1:4])\n",
        "print(\"varias columnas \\n\",a[:,1:3])\n",
        "print(\"una porcion     \\n\",a[2:5,1:5])"
      ]
    },
    {
      "cell_type": "markdown",
      "metadata": {
        "id": "ZtCGz6syh0lg"
      },
      "source": [
        "**Operaciones con los elementos**\n",
        "\n",
        "\n",
        "\n"
      ]
    },
    {
      "cell_type": "code",
      "execution_count": 19,
      "metadata": {
        "colab": {
          "base_uri": "https://localhost:8080/"
        },
        "id": "TpbiyD5s7Roa",
        "outputId": "e34841bb-a8ae-4d1f-b82e-e3a4dc17f431"
      },
      "outputs": [
        {
          "name": "stdout",
          "output_type": "stream",
          "text": [
            "Valor maximo:  9\n",
            "Valor minimo:  1\n",
            "Valor media:  3.942857142857143\n",
            "Valor suma:  138\n"
          ]
        }
      ],
      "source": [
        "# Valor maximo\n",
        "print('Valor maximo: ',np.max(a))\n",
        "# Valor minimo\n",
        "print('Valor minimo: ',np.min(a))\n",
        "# Valor media\n",
        "print('Valor media: ',np.mean(a))\n",
        "# Valor suma\n",
        "print('Valor suma: ',np.sum(a))\n"
      ]
    },
    {
      "cell_type": "markdown",
      "metadata": {
        "id": "Z0AcUXFI_y2I"
      },
      "source": [
        "Una matriz puede tener una o varios canales o dimentisones\n"
      ]
    },
    {
      "cell_type": "code",
      "execution_count": 20,
      "metadata": {
        "colab": {
          "base_uri": "https://localhost:8080/"
        },
        "id": "BCy6mTugAZo0",
        "outputId": "e7721be1-ee9a-467e-8587-7cc79f017d13"
      },
      "outputs": [
        {
          "name": "stdout",
          "output_type": "stream",
          "text": [
            "[[[3 2 3]\n",
            "  [2 4 0]\n",
            "  [1 3 3]]\n",
            "\n",
            " [[3 0 5]\n",
            "  [2 5 7]\n",
            "  [3 9 0]]\n",
            "\n",
            " [[5 7 1]\n",
            "  [4 9 1]\n",
            "  [4 1 5]]]\n"
          ]
        }
      ],
      "source": [
        "m = np.random.randint(10, size=(3,3,3))\n",
        "\n",
        "print(m)"
      ]
    },
    {
      "cell_type": "markdown",
      "metadata": {
        "id": "BnXTxha09iWD"
      },
      "source": [
        "**Operaciones por ejes**\n",
        "\n",
        "axis(0)= columnas\n",
        "axis(1)= filas\n",
        "axis(2)= capas\n"
      ]
    },
    {
      "cell_type": "code",
      "execution_count": 21,
      "metadata": {
        "colab": {
          "base_uri": "https://localhost:8080/"
        },
        "id": "d2IvzfTY9nO8",
        "outputId": "365c151f-0851-426e-9333-3c662289b4b5"
      },
      "outputs": [
        {
          "name": "stdout",
          "output_type": "stream",
          "text": [
            "Valor maximo:  [[5 7 5]\n",
            " [4 9 7]\n",
            " [4 9 5]]\n",
            "Valor minimo:  [[1 2 0]\n",
            " [2 0 0]\n",
            " [4 1 1]]\n",
            "Valor media:  [[2.66666667 2.         2.33333333]\n",
            " [2.66666667 4.66666667 4.        ]\n",
            " [4.33333333 4.66666667 3.33333333]]\n"
          ]
        }
      ],
      "source": [
        "# Valor maximo axis = 0\n",
        "print('Valor maximo: ', np.max(m, axis = 0))\n",
        "\n",
        "# Valor minimo axis = 1\n",
        "print('Valor minimo: ', np.min(m,  axis = 1))\n",
        "\n",
        "# Valor media axis = 2\n",
        "print('Valor media: ',np.mean(m,  axis = 2))\n"
      ]
    },
    {
      "cell_type": "markdown",
      "metadata": {
        "id": "5rlSqLzOAVay"
      },
      "source": [
        "**Generación de matrices y vectores**"
      ]
    },
    {
      "cell_type": "code",
      "execution_count": 22,
      "metadata": {
        "colab": {
          "base_uri": "https://localhost:8080/"
        },
        "id": "J0aaw_egAApk",
        "outputId": "9e6bf4a3-8201-4ad6-c0ab-1eaab360d59a"
      },
      "outputs": [
        {
          "name": "stdout",
          "output_type": "stream",
          "text": [
            "matrix identidad\n",
            " [[1. 0. 0.]\n",
            " [0. 1. 0.]\n",
            " [0. 0. 1.]]\n",
            "vector de ceros [0. 0. 0. 0.]\n",
            "matriz de ceros\n",
            " [[0. 0.]\n",
            " [0. 0.]\n",
            " [0. 0.]]\n",
            "matriz de unos\n",
            " [[1. 1. 1.]\n",
            " [1. 1. 1.]]\n",
            "vector rango [0 1 2 3 4 5 6 7 8 9]\n",
            "vector rango [5 6 7 8 9]\n",
            "vector espacio lineal [0. 3. 6. 9.]\n",
            "matriz aleatoria según distribución uniforme [0,1]\n",
            " [[0.98509543 0.46456823 0.16997081 0.03325655 0.63697801]\n",
            " [0.58713582 0.12796469 0.9090516  0.23760755 0.78034681]\n",
            " [0.94829066 0.11887746 0.16499697 0.3786454  0.80995264]]\n",
            "vector aleatorio de enteros entre 0 y 5 [1 1 3 4 3 1 4 2 4 3]\n"
          ]
        }
      ],
      "source": [
        "print(\"matrix identidad\\n\", np.eye(3))\n",
        "print(\"vector de ceros\", np.zeros(4))\n",
        "print(\"matriz de ceros\\n\", np.zeros((3,2)))\n",
        "print(\"matriz de unos\\n\", np.ones((2,3)))\n",
        "print(\"vector rango\", np.arange(10))\n",
        "print(\"vector rango\", np.arange(5,10))\n",
        "print(\"vector espacio lineal\", np.linspace(0,9,4))\n",
        "print(\"matriz aleatoria según distribución uniforme [0,1]\\n\", np.random.random(size=(3,5)))\n",
        "print(\"vector aleatorio de enteros entre 0 y 5\", np.random.randint(5, size=10))"
      ]
    },
    {
      "cell_type": "markdown",
      "metadata": {
        "id": "-dPs88IZESrX"
      },
      "source": [
        "**Operaciones Vectoriales**\n",
        "\n",
        "Caba resaltar que existen 2 clases de multiplicación, la normal con * que es la multiplicacion entre elementos y la dot Que es una mulriplicacion matricial"
      ]
    },
    {
      "cell_type": "code",
      "execution_count": 23,
      "metadata": {
        "colab": {
          "base_uri": "https://localhost:8080/"
        },
        "id": "lBvMx225H9Zs",
        "outputId": "9abf5e0b-c869-46c3-ed70-dd61bbcb43f7"
      },
      "outputs": [
        {
          "name": "stdout",
          "output_type": "stream",
          "text": [
            "[10 12 13 15 20]\n",
            "[4 6 8 6 3]\n",
            "[11 13 14 16 21]\n",
            "[20 24 26 30 40]\n",
            "366\n"
          ]
        }
      ],
      "source": [
        "v = np.array([10,12,13,15,20])\n",
        "a =  np.random.randint(10, size=5)\n",
        "print(v)\n",
        "print(a)\n",
        "print(v+1)\n",
        "print(v*2)\n",
        "print(v.dot(a))"
      ]
    },
    {
      "cell_type": "code",
      "execution_count": 24,
      "metadata": {
        "colab": {
          "base_uri": "https://localhost:8080/"
        },
        "id": "K17V_aSWI3_c",
        "outputId": "8d168902-3173-4b36-99c2-eabe80e4f9ec"
      },
      "outputs": [
        {
          "name": "stdout",
          "output_type": "stream",
          "text": [
            "[[1 2 3]\n",
            " [4 5 6]]\n",
            "[[6 5 4]\n",
            " [3 2 1]]\n",
            "--\n",
            "a+b\n",
            " [[7 7 7]\n",
            " [7 7 7]]\n",
            "a**2\n",
            " [[ 1  4  9]\n",
            " [16 25 36]]\n",
            "a*b\n",
            " [[ 6 10 12]\n",
            " [12 10  6]]\n",
            "a x b'\n",
            " [[28 10]\n",
            " [73 28]]\n",
            "a' x b\n",
            " [[18 13  8]\n",
            " [27 20 13]\n",
            " [36 27 18]]\n"
          ]
        }
      ],
      "source": [
        "a = np.array([[1,2,3],[4,5,6]])\n",
        "b = np.array([[6,5,4],[3,2,1]])\n",
        "\n",
        "print(a)\n",
        "print(b)\n",
        "print(\"--\")\n",
        "\n",
        "print(\"a+b\\n\",a+b)\n",
        "print(\"a**2\\n\", a**2)\n",
        "print(\"a*b\\n\",a*b)\n",
        "print(\"a x b'\\n\",a.dot(b.T))\n",
        "print(\"a' x b\\n\",a.T.dot(b))"
      ]
    },
    {
      "cell_type": "markdown",
      "metadata": {
        "id": "L45EqIEEJ200"
      },
      "source": [
        "Los array tambien pueden funcionar con expresiones boolean"
      ]
    },
    {
      "cell_type": "code",
      "execution_count": 25,
      "metadata": {
        "colab": {
          "base_uri": "https://localhost:8080/"
        },
        "id": "lxVzul3gKMFn",
        "outputId": "26db9ac1-b2e0-4018-b9fb-7835a5b4ec35"
      },
      "outputs": [
        {
          "name": "stdout",
          "output_type": "stream",
          "text": [
            "[ 1  8  4 10 -4  5]\n",
            "[False  True False  True False  True]\n",
            "[False  True False  True False  True]\n"
          ]
        },
        {
          "data": {
            "text/plain": [
              "array([ 8, 10,  5])"
            ]
          },
          "execution_count": 25,
          "metadata": {},
          "output_type": "execute_result"
        }
      ],
      "source": [
        "a = np.array([1,8,4,10,-4,5])\n",
        "print(a)\n",
        "print(a>4)\n",
        "i = np.array([False, True, False, True, False, True])\n",
        "print(i)\n",
        "\n",
        "a[a>4]"
      ]
    },
    {
      "cell_type": "markdown",
      "metadata": {
        "id": "IvMSNubvMgjL"
      },
      "source": [
        "**Expresiones compactas:**\n",
        "\n",
        "Son son formas más cortas que realizar elñ codigo"
      ]
    },
    {
      "cell_type": "code",
      "execution_count": 26,
      "metadata": {
        "colab": {
          "base_uri": "https://localhost:8080/"
        },
        "id": "xbXj2IIIUB4X",
        "outputId": "b2d4d1af-de98-4d2e-c3f0-a04f29e76e6a"
      },
      "outputs": [
        {
          "name": "stdout",
          "output_type": "stream",
          "text": [
            "mayor que 7\n"
          ]
        }
      ],
      "source": [
        "a=15\n",
        "if a > 7:\n",
        "    s = \"mayor que 7\"\n",
        "else:\n",
        "    s = \"menor que 17\"\n",
        "\n",
        "print(s)"
      ]
    },
    {
      "cell_type": "code",
      "execution_count": 27,
      "metadata": {
        "colab": {
          "base_uri": "https://localhost:8080/"
        },
        "id": "KAXJngnAUB4Y",
        "outputId": "643b5308-139f-4550-c148-0a1452f0cf2e"
      },
      "outputs": [
        {
          "name": "stdout",
          "output_type": "stream",
          "text": [
            "mayor que 7\n"
          ]
        }
      ],
      "source": [
        "a = 15\n",
        "s = \"mayor que 7\" if a > 7 else \"menor que 7\"\n",
        "print(s)"
      ]
    },
    {
      "cell_type": "code",
      "execution_count": 28,
      "metadata": {
        "colab": {
          "base_uri": "https://localhost:8080/"
        },
        "id": "VAOQ0XrjUB4a",
        "outputId": "7dfb5e5d-2015-4c30-cff8-0f9965cccd73"
      },
      "outputs": [
        {
          "name": "stdout",
          "output_type": "stream",
          "text": [
            "[0, 1, 2]\n"
          ]
        }
      ],
      "source": [
        "l=[]\n",
        "for i in range(3):\n",
        "    l.append(i)\n",
        "print(l)\n"
      ]
    },
    {
      "cell_type": "code",
      "execution_count": 29,
      "metadata": {
        "colab": {
          "base_uri": "https://localhost:8080/"
        },
        "id": "jrsyNt34UB4b",
        "outputId": "4f7a1254-5100-4061-defd-e8ced72fe7e7"
      },
      "outputs": [
        {
          "name": "stdout",
          "output_type": "stream",
          "text": [
            "[0, 1, 2]\n"
          ]
        }
      ],
      "source": [
        "l=[i for i in range(3)]\n",
        "print(l)"
      ]
    },
    {
      "cell_type": "code",
      "execution_count": 30,
      "metadata": {
        "colab": {
          "base_uri": "https://localhost:8080/"
        },
        "id": "so8A_AQ6UB4c",
        "outputId": "97153c92-2325-40e3-f521-fa03c87a71d2"
      },
      "outputs": [
        {
          "name": "stdout",
          "output_type": "stream",
          "text": [
            "['10A', '-4B', '20A', '5A']\n"
          ]
        }
      ],
      "source": [
        "a = [10, -4, 20, 5]\n",
        "\n",
        "#o = [\"10A\", \"-4B\", \"20A\", \"5A\"]\n",
        "\n",
        "o = []\n",
        "for i in a:\n",
        "    if i<0:\n",
        "        o.append(str(i)+\"B\")\n",
        "    else:\n",
        "        o.append(str(i)+\"A\")\n",
        "\n",
        "print(o)"
      ]
    },
    {
      "cell_type": "code",
      "execution_count": 31,
      "metadata": {
        "colab": {
          "base_uri": "https://localhost:8080/"
        },
        "id": "v7uL-y9NUB4e",
        "outputId": "8e425df1-0318-4333-b4ca-8b23344c82db"
      },
      "outputs": [
        {
          "name": "stdout",
          "output_type": "stream",
          "text": [
            "['10A', '-4B', '20A', '5A']\n"
          ]
        }
      ],
      "source": [
        "a = [10, -4, 20, 5]\n",
        "def convert(x):\n",
        "    return str(x)+\"B\" if x<0 else str(x)+\"A\" \n",
        "\n",
        "o = [convert(i) for i in a]\n",
        "print(o)"
      ]
    },
    {
      "cell_type": "code",
      "execution_count": 32,
      "metadata": {
        "colab": {
          "base_uri": "https://localhost:8080/"
        },
        "id": "z8kgve0vUB4f",
        "outputId": "5cf770d7-6500-4915-9803-70f345316b1b"
      },
      "outputs": [
        {
          "name": "stdout",
          "output_type": "stream",
          "text": [
            "['el numero 0', 'el numero 1', 'el numero 2', 'el numero 3', 'el numero 4', 'el numero 5', 'el numero 6', 'el numero 7', 'el numero 8', 'el numero 9']\n"
          ]
        }
      ],
      "source": [
        "r = []\n",
        "for i in range(10):\n",
        "    r.append(\"el numero \"+str(i))\n",
        "print(r)"
      ]
    },
    {
      "cell_type": "code",
      "execution_count": 33,
      "metadata": {
        "colab": {
          "base_uri": "https://localhost:8080/"
        },
        "id": "W2GqgKLMUB4g",
        "outputId": "60e70746-6a6d-4f40-ebdd-40e8096209e3"
      },
      "outputs": [
        {
          "name": "stdout",
          "output_type": "stream",
          "text": [
            "['el numero 0', 'el numero 1', 'el numero 2', 'el numero 3', 'el numero 4', 'el numero 5', 'el numero 6', 'el numero 7', 'el numero 8', 'el numero 9']\n"
          ]
        }
      ],
      "source": [
        "r = [\"el numero \"+str(i) for i in range(10)]\n",
        "print(r)"
      ]
    },
    {
      "cell_type": "code",
      "execution_count": 34,
      "metadata": {
        "colab": {
          "base_uri": "https://localhost:8080/"
        },
        "id": "eQHg-bTzWA1Y",
        "outputId": "72e8cff2-557a-4fa6-c896-7bbfc35d16ff"
      },
      "outputs": [
        {
          "name": "stdout",
          "output_type": "stream",
          "text": [
            "Fresa es de color roja\n",
            "Limon es de color verde\n",
            "Papaya es de color naranja\n",
            "Manzana es de color amarilla\n",
            "Guayaba es de color rosa\n"
          ]
        }
      ],
      "source": [
        "frutas = {'Fresa':'roja', 'Limon':'verde', 'Papaya':'naranja', 'Manzana':'amarilla', 'Guayaba':'rosa'}\n",
        "for nombre, color in frutas.items():\n",
        "    print (nombre, \"es de color\", color)\n",
        "\n",
        "r = [nombre+\" es de color \"+color for nombre, color in frutas.items()]    "
      ]
    },
    {
      "cell_type": "code",
      "execution_count": 35,
      "metadata": {
        "colab": {
          "base_uri": "https://localhost:8080/"
        },
        "id": "Ora5ZclNWST7",
        "outputId": "8b09dbd0-efb6-4d0b-ee21-e4448a213f99"
      },
      "outputs": [
        {
          "data": {
            "text/plain": [
              "['Fresa es de color roja',\n",
              " 'Limon es de color verde',\n",
              " 'Papaya es de color naranja',\n",
              " 'Manzana es de color amarilla',\n",
              " 'Guayaba es de color rosa']"
            ]
          },
          "execution_count": 35,
          "metadata": {},
          "output_type": "execute_result"
        }
      ],
      "source": [
        "r"
      ]
    },
    {
      "cell_type": "markdown",
      "metadata": {
        "id": "x-p4ke3bXErU"
      },
      "source": [
        "## MATPLOIB\n",
        "\n",
        "Es una libreria que nos permite graficar\n"
      ]
    },
    {
      "cell_type": "code",
      "execution_count": 36,
      "metadata": {
        "colab": {
          "base_uri": "https://localhost:8080/"
        },
        "id": "GQq6vGiSXhEQ",
        "outputId": "3d05d580-f5b2-448d-ebf6-b3d25123e8de"
      },
      "outputs": [
        {
          "data": {
            "text/plain": [
              "array([-4.        , -3.91919192, -3.83838384, -3.75757576, -3.67676768,\n",
              "       -3.5959596 , -3.51515152, -3.43434343, -3.35353535, -3.27272727,\n",
              "       -3.19191919, -3.11111111, -3.03030303, -2.94949495, -2.86868687,\n",
              "       -2.78787879, -2.70707071, -2.62626263, -2.54545455, -2.46464646,\n",
              "       -2.38383838, -2.3030303 , -2.22222222, -2.14141414, -2.06060606,\n",
              "       -1.97979798, -1.8989899 , -1.81818182, -1.73737374, -1.65656566,\n",
              "       -1.57575758, -1.49494949, -1.41414141, -1.33333333, -1.25252525,\n",
              "       -1.17171717, -1.09090909, -1.01010101, -0.92929293, -0.84848485,\n",
              "       -0.76767677, -0.68686869, -0.60606061, -0.52525253, -0.44444444,\n",
              "       -0.36363636, -0.28282828, -0.2020202 , -0.12121212, -0.04040404,\n",
              "        0.04040404,  0.12121212,  0.2020202 ,  0.28282828,  0.36363636,\n",
              "        0.44444444,  0.52525253,  0.60606061,  0.68686869,  0.76767677,\n",
              "        0.84848485,  0.92929293,  1.01010101,  1.09090909,  1.17171717,\n",
              "        1.25252525,  1.33333333,  1.41414141,  1.49494949,  1.57575758,\n",
              "        1.65656566,  1.73737374,  1.81818182,  1.8989899 ,  1.97979798,\n",
              "        2.06060606,  2.14141414,  2.22222222,  2.3030303 ,  2.38383838,\n",
              "        2.46464646,  2.54545455,  2.62626263,  2.70707071,  2.78787879,\n",
              "        2.86868687,  2.94949495,  3.03030303,  3.11111111,  3.19191919,\n",
              "        3.27272727,  3.35353535,  3.43434343,  3.51515152,  3.5959596 ,\n",
              "        3.67676768,  3.75757576,  3.83838384,  3.91919192,  4.        ])"
            ]
          },
          "execution_count": 36,
          "metadata": {},
          "output_type": "execute_result"
        }
      ],
      "source": [
        "x = np.linspace(-4,4,100)\n",
        "x\n"
      ]
    }
  ],
  "metadata": {
    "colab": {
      "name": "Copia de Resumen de Python",
      "provenance": []
    },
    "interpreter": {
      "hash": "b5cad35d40c3053a4cef8a614e5a4896dd9f710c1447c4467aae6161af62fbcf"
    },
    "kernelspec": {
      "display_name": "Python 3.9.1 64-bit",
      "name": "python3"
    },
    "language_info": {
      "codemirror_mode": {
        "name": "ipython",
        "version": 3
      },
      "file_extension": ".py",
      "mimetype": "text/x-python",
      "name": "python",
      "nbconvert_exporter": "python",
      "pygments_lexer": "ipython3",
      "version": "3.9.1"
    }
  },
  "nbformat": 4,
  "nbformat_minor": 0
}
